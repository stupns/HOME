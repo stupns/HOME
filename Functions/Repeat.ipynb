{
 "cells": [
  {
   "cell_type": "markdown",
   "source": [],
   "metadata": {
    "collapsed": false
   },
   "id": "7362bed43796ccd3"
  },
  {
   "cell_type": "markdown",
   "source": [
    "**MAP()**\n",
    "\n",
    "Return an iterator that applies function to every item of iterable, yielding the results. If additional iterables arguments are passed, function must take that many arguments and is applied to the items from all iterables in parallel. With multiple iterables, the iterator stops when the shortest iterable is exhausted. For cases where the function inputs are already arranged into argument tuples"
   ],
   "metadata": {
    "collapsed": false
   },
   "id": "bb6febde3edf6dd3"
  },
  {
   "cell_type": "markdown",
   "source": [
    "Returns square of a number:"
   ],
   "metadata": {
    "collapsed": false
   },
   "id": "b9c4d35657ad829f"
  },
  {
   "cell_type": "code",
   "outputs": [],
   "source": [
    "numbers = [2, 4, 6, 8, 10]\n",
    "def square(number):\n",
    "    return number * number"
   ],
   "metadata": {
    "collapsed": false,
    "ExecuteTime": {
     "end_time": "2024-04-03T16:18:54.470209Z",
     "start_time": "2024-04-03T16:18:54.467062Z"
    }
   },
   "id": "ba639d929b09e02e",
   "execution_count": 7
  },
  {
   "cell_type": "markdown",
   "source": [
    "## Example 1: apply square() function to each item of the numbers list:"
   ],
   "metadata": {
    "collapsed": false
   },
   "id": "115c2c89e878c3ec"
  },
  {
   "cell_type": "code",
   "outputs": [
    {
     "name": "stdout",
     "output_type": "stream",
     "text": [
      "[1, 4, 9, 16]\n"
     ]
    }
   ],
   "source": [
    "squared_numbers_iterator = list(map(square, numbers))\n",
    "print(squared_numbers_iterator)  # [4, 16, 36, 64, 100]"
   ],
   "metadata": {
    "collapsed": false,
    "ExecuteTime": {
     "end_time": "2024-04-03T16:30:37.106762Z",
     "start_time": "2024-04-03T16:30:37.102782Z"
    }
   },
   "id": "1b03f911eac43c88",
   "execution_count": 15
  },
  {
   "cell_type": "markdown",
   "source": [
    "## Example 2: Lambda with map():"
   ],
   "metadata": {
    "collapsed": false
   },
   "id": "414df7e6d1ed7e2c"
  },
  {
   "cell_type": "code",
   "outputs": [
    {
     "name": "stdout",
     "output_type": "stream",
     "text": [
      "\n",
      "Example 2: \n",
      "{16, 1, 4, 9}\n"
     ]
    }
   ],
   "source": [
    "# Example 2: Lambda with map():\n",
    "numbers = (1, 2, 3, 4)\n",
    "\n",
    "result = set(map(lambda x: x * x, numbers))\n",
    "print(f'\\nExample 2: \\n{result}')"
   ],
   "metadata": {
    "collapsed": false,
    "ExecuteTime": {
     "end_time": "2024-04-03T16:30:39.357261Z",
     "start_time": "2024-04-03T16:30:39.355031Z"
    }
   },
   "id": "ae61487d18b225f3",
   "execution_count": 16
  },
  {
   "cell_type": "markdown",
   "source": [
    "## Example 3: Multiple Iterators to map() Using Lambda:"
   ],
   "metadata": {
    "collapsed": false
   },
   "id": "fcac1ef0007fec3b"
  },
  {
   "cell_type": "code",
   "outputs": [
    {
     "name": "stdout",
     "output_type": "stream",
     "text": [
      "\n",
      "Example 3: \n",
      "[9, 11, 13]\n"
     ]
    }
   ],
   "source": [
    "num1 = [4, 5, 6]\n",
    "num2 = [5, 6, 7]\n",
    "\n",
    "result = list(map(lambda n1, n2: n1 + n2, num1, num2))\n",
    "print(f'\\nExample 3: \\n{result}')"
   ],
   "metadata": {
    "collapsed": false,
    "ExecuteTime": {
     "end_time": "2024-04-03T16:30:49.685651Z",
     "start_time": "2024-04-03T16:30:49.681747Z"
    }
   },
   "id": "f6e9389bf3cddaa9",
   "execution_count": 21
  },
  {
   "cell_type": "markdown",
   "source": [
    "## Example 4: len words in lists"
   ],
   "metadata": {
    "collapsed": false
   },
   "id": "b0ed2b0e065e7f12"
  },
  {
   "cell_type": "code",
   "outputs": [
    {
     "name": "stdout",
     "output_type": "stream",
     "text": [
      "\n",
      "Example 4: \n",
      "[7, 2, 4, 6]\n"
     ]
    }
   ],
   "source": [
    "words = [\"Welcome\", \"to\", \"Real\", \"Python\"]\n",
    "\n",
    "result = list(map(len, words))\n",
    "print(f'\\nExample 4: \\n{result}')"
   ],
   "metadata": {
    "collapsed": false,
    "ExecuteTime": {
     "end_time": "2024-04-03T16:22:59.278769Z",
     "start_time": "2024-04-03T16:22:59.275343Z"
    }
   },
   "id": "10b15e759d5a27d6",
   "execution_count": 13
  },
  {
   "cell_type": "markdown",
   "source": [
    "## Example 5: Removing Punctuation"
   ],
   "metadata": {
    "collapsed": false
   },
   "id": "6d111704c89b459d"
  },
  {
   "cell_type": "code",
   "outputs": [
    {
     "name": "stdout",
     "output_type": "stream",
     "text": [
      "\n",
      "Example 5: \n",
      "['Some', 'people', 'when', 'confronted', 'with', 'a', 'problem', 'think', 'I', 'know', \"I'll\", 'use', 'regular', 'expressions', 'Now', 'they', 'have', 'two', 'problems', 'Jamie', 'Zawinski']\n"
     ]
    }
   ],
   "source": [
    "import re\n",
    "text = \"\"\"Some people, when confronted with a problem, think \n",
    "I know, I'll use regular expressions.\n",
    "Now they have two problems. Jamie Zawinski\"\"\"\n",
    "\n",
    "\n",
    "def remove_punctuation(word):\n",
    "    return re.sub(r'[!?.:;,\"()-]', \"\", word)\n",
    "\n",
    "\n",
    "result = list(map(remove_punctuation, text.split()))\n",
    "print(f'\\nExample 5: \\n{result}')"
   ],
   "metadata": {
    "collapsed": false,
    "ExecuteTime": {
     "end_time": "2024-04-03T17:24:02.293886Z",
     "start_time": "2024-04-03T17:24:02.286775Z"
    }
   },
   "id": "28730cd08fb87bcd",
   "execution_count": 22
  },
  {
   "cell_type": "code",
   "outputs": [],
   "source": [
    "lambda x: x\n",
    "print(x)"
   ],
   "metadata": {
    "collapsed": false
   },
   "id": "a54989f6efc09a87"
  }
 ],
 "metadata": {
  "kernelspec": {
   "display_name": "Python 3",
   "language": "python",
   "name": "python3"
  },
  "language_info": {
   "codemirror_mode": {
    "name": "ipython",
    "version": 2
   },
   "file_extension": ".py",
   "mimetype": "text/x-python",
   "name": "python",
   "nbconvert_exporter": "python",
   "pygments_lexer": "ipython2",
   "version": "2.7.6"
  }
 },
 "nbformat": 4,
 "nbformat_minor": 5
}
