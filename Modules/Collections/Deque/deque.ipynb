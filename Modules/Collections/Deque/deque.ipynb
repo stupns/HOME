{
 "cells": [
  {
   "metadata": {},
   "cell_type": "markdown",
   "source": "1. Створення та додавання елементів:",
   "id": "6a2449f7bd84eeb0"
  },
  {
   "metadata": {
    "ExecuteTime": {
     "end_time": "2024-04-07T20:20:01.187541Z",
     "start_time": "2024-04-07T20:20:01.182825Z"
    }
   },
   "cell_type": "code",
   "source": [
    "from collections import deque\n",
    "\n",
    "# Створення deque\n",
    "a = deque()\n",
    "d = deque()\n",
    "\n",
    "# Додавання елементів на кінець\n",
    "d.append('a')\n",
    "d.append('b')\n",
    "\n",
    "# Додавання елементів на початок\n",
    "d.appendleft('0')\n",
    "print(type(d))\n",
    "print(d)  # deque(['0', 'a', 'b'])"
   ],
   "id": "293f4268fa985dea",
   "outputs": [
    {
     "name": "stdout",
     "output_type": "stream",
     "text": [
      "<class 'collections.deque'>\n",
      "deque(['0', 'a', 'b'])\n"
     ]
    }
   ],
   "execution_count": 80
  },
  {
   "metadata": {},
   "cell_type": "markdown",
   "source": "2. Видалення елементів та очищення:",
   "id": "cd1be1a603da0a43"
  },
  {
   "metadata": {
    "ExecuteTime": {
     "end_time": "2024-04-07T20:19:51.125095Z",
     "start_time": "2024-04-07T20:19:51.122650Z"
    }
   },
   "cell_type": "code",
   "source": [
    "# Видалення елемента з кінця\n",
    "d.pop()\n",
    "print(d)  # deque(['0', 'a'])\n",
    "\n",
    "# Видалення елемента з початку\n",
    "d.popleft()\n",
    "print(d)  # deque(['a'])\n",
    "\n",
    "# Очищення:\n",
    "a.clear()        # Очищаємо deque\n",
    "print(a)         # deque([])"
   ],
   "id": "628a06a3a00a44c5",
   "outputs": [
    {
     "name": "stdout",
     "output_type": "stream",
     "text": [
      "deque([])\n",
      "deque([])\n"
     ]
    }
   ],
   "execution_count": 79
  },
  {
   "metadata": {},
   "cell_type": "markdown",
   "source": "3. Використання як обмеженої черги:",
   "id": "d8154470951d6e54"
  },
  {
   "metadata": {
    "ExecuteTime": {
     "end_time": "2024-04-07T20:01:53.034622Z",
     "start_time": "2024-04-07T20:01:53.032052Z"
    }
   },
   "cell_type": "code",
   "source": [
    "d = deque(maxlen=3)\n",
    "\n",
    "# Додавання елементів\n",
    "d.append(1)\n",
    "d.append(2)\n",
    "d.append(3)\n",
    "print(d)  # deque([1, 2, 3], maxlen=3)\n"
   ],
   "id": "42f77700b68ecff9",
   "outputs": [
    {
     "name": "stdout",
     "output_type": "stream",
     "text": [
      "deque([1, 2, 3], maxlen=3)\n",
      "1\n"
     ]
    }
   ],
   "execution_count": 62
  },
  {
   "metadata": {},
   "cell_type": "markdown",
   "source": "4. Обертання елементів:",
   "id": "1d1f4b9be8a8399e"
  },
  {
   "metadata": {
    "ExecuteTime": {
     "end_time": "2024-04-07T20:12:46.282752Z",
     "start_time": "2024-04-07T20:12:46.277912Z"
    }
   },
   "cell_type": "code",
   "source": [
    "d = deque([1, 2, 3, 4, 5])\n",
    "\n",
    "# Обертання вправо\n",
    "d.rotate(1)\n",
    "print(d)  # deque([5, 1, 2, 3, 4])\n",
    "\n",
    "# Обертання вліво\n",
    "d.rotate(-2)\n",
    "print(d)  # deque([2, 3, 4, 5, 1])"
   ],
   "id": "488ca7ca6dd2aaf0",
   "outputs": [
    {
     "name": "stdout",
     "output_type": "stream",
     "text": [
      "deque([5, 1, 2, 3, 4])\n",
      "deque([2, 3, 4, 5, 1])\n"
     ]
    }
   ],
   "execution_count": 69
  },
  {
   "metadata": {},
   "cell_type": "markdown",
   "source": "5. Копіювання :",
   "id": "45c1b2d4052fc96d"
  },
  {
   "metadata": {
    "ExecuteTime": {
     "end_time": "2024-04-07T20:24:43.479666Z",
     "start_time": "2024-04-07T20:24:43.474122Z"
    }
   },
   "cell_type": "code",
   "source": [
    "# Створення оригінального deque\n",
    "original_deque = deque([1, 2, 3])\n",
    "\n",
    "# Створення копії\n",
    "deque_copy = original_deque.copy()\n",
    "\n",
    "# Виведення обох deque\n",
    "print(\"Оригінал:\", original_deque)\n",
    "print(\"Копія:\", deque_copy)\n",
    "\n",
    "# Додавання елементу до копії\n",
    "deque_copy.append(4)\n",
    "\n",
    "# Виведення обох deque після модифікації копії\n",
    "print(\"Оригінал після модифікації копії:\", original_deque)\n",
    "print(\"Копія після додавання елемента:\", deque_copy)"
   ],
   "id": "fb12055361fe4a4d",
   "outputs": [
    {
     "name": "stdout",
     "output_type": "stream",
     "text": [
      "4428827904\n",
      "4428828576\n",
      "Оригінал: deque([1, 2, 3])\n",
      "Копія: deque([1, 2, 3])\n",
      "Оригінал після модифікації копії: deque([1, 2, 3])\n",
      "Копія після додавання елемента: deque([1, 2, 3, 4])\n"
     ]
    }
   ],
   "execution_count": 82
  },
  {
   "metadata": {},
   "cell_type": "markdown",
   "source": "6. Кількість count(x):",
   "id": "a8200a49674d4b86"
  },
  {
   "metadata": {
    "ExecuteTime": {
     "end_time": "2024-04-08T14:34:58.076342Z",
     "start_time": "2024-04-08T14:34:58.066364Z"
    }
   },
   "cell_type": "code",
   "source": [
    "d = deque(['apple', 'orange', 'banana', 'apple', 'orange', 'apple'])\n",
    "\n",
    "# Використання count для підрахунку кількості 'apple'\n",
    "apple_count = d.count('apple')\n",
    "\n",
    "print(f\"Кількість 'apple' в deque: {apple_count}\")"
   ],
   "id": "c4d4ed3426d58389",
   "outputs": [
    {
     "name": "stdout",
     "output_type": "stream",
     "text": [
      "Кількість 'apple' в deque: 3\n"
     ]
    }
   ],
   "execution_count": 83
  },
  {
   "metadata": {
    "ExecuteTime": {
     "end_time": "2024-04-08T14:37:23.643913Z",
     "start_time": "2024-04-08T14:37:23.641148Z"
    }
   },
   "cell_type": "code",
   "source": "",
   "id": "80ba4e8445783e17",
   "outputs": [
    {
     "name": "stdout",
     "output_type": "stream",
     "text": [
      "Кількість чисел більших за 5: 27\n"
     ]
    }
   ],
   "execution_count": 85
  }
 ],
 "metadata": {
  "kernelspec": {
   "display_name": "Python 3",
   "language": "python",
   "name": "python3"
  },
  "language_info": {
   "codemirror_mode": {
    "name": "ipython",
    "version": 2
   },
   "file_extension": ".py",
   "mimetype": "text/x-python",
   "name": "python",
   "nbconvert_exporter": "python",
   "pygments_lexer": "ipython2",
   "version": "2.7.6"
  }
 },
 "nbformat": 4,
 "nbformat_minor": 5
}
