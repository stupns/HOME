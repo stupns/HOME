{
 "cells": [
  {
   "metadata": {},
   "cell_type": "markdown",
   "source": "1. Базовий підрахунок елементів",
   "id": "482fd62acd81852f"
  },
  {
   "metadata": {
    "ExecuteTime": {
     "end_time": "2024-04-07T18:24:21.840522Z",
     "start_time": "2024-04-07T18:24:21.835417Z"
    }
   },
   "cell_type": "code",
   "source": [
    "from collections import Counter\n",
    "\n",
    "chars_count = Counter(\"banana\")\n",
    "print(chars_count)  # Counter({'a': 3, 'n': 2, 'b': 1})"
   ],
   "id": "f1a6c350eb864db3",
   "outputs": [
    {
     "name": "stdout",
     "output_type": "stream",
     "text": [
      "Counter({'a': 3, 'n': 2, 'b': 1})\n"
     ]
    }
   ],
   "execution_count": 1
  },
  {
   "metadata": {},
   "cell_type": "markdown",
   "source": "2. Підрахунок елементів у списку",
   "id": "349de5bbd007266b"
  },
  {
   "metadata": {},
   "cell_type": "code",
   "outputs": [],
   "execution_count": null,
   "source": [
    "nums_count = Counter([1, 2, 3, 4, 1, 2, 1])\n",
    "print(nums_count)  # Counter({1: 3, 2: 2, 3: 1, 4: 1})"
   ],
   "id": "8585debe45a5d218"
  },
  {
   "metadata": {},
   "cell_type": "markdown",
   "source": "3. Використання методів Counter",
   "id": "d81ec5a087ce0ad9"
  },
  {
   "metadata": {
    "ExecuteTime": {
     "end_time": "2024-04-07T18:25:42.819510Z",
     "start_time": "2024-04-07T18:25:42.815497Z"
    }
   },
   "cell_type": "code",
   "source": [
    "# Отримання найпоширеніших елементів\n",
    "common_elements = chars_count.most_common(2)\n",
    "print(common_elements)  # [('a', 3), ('n', 2)]\n",
    "\n",
    "# Оновлення підрахунку з іншого ітерабельного об'єкта\n",
    "chars_count.update('apple')\n",
    "print(chars_count)  # Counter({'a': 4, 'p': 2, 'n': 2, 'b': 1, 'l': 1, 'e': 1})\n"
   ],
   "id": "f6dfa5becb00e318",
   "outputs": [
    {
     "name": "stdout",
     "output_type": "stream",
     "text": [
      "[('a', 3), ('n', 2)]\n",
      "Counter({'a': 4, 'n': 2, 'p': 2, 'b': 1, 'l': 1, 'e': 1})\n"
     ]
    }
   ],
   "execution_count": 2
  },
  {
   "metadata": {},
   "cell_type": "markdown",
   "source": "4. Арифметичні операції з Counter",
   "id": "9ada55f8119a3395"
  },
  {
   "metadata": {
    "ExecuteTime": {
     "end_time": "2024-04-07T18:33:51.198486Z",
     "start_time": "2024-04-07T18:33:51.194920Z"
    }
   },
   "cell_type": "code",
   "source": [
    "c1 = Counter(['a', 'b', 'c', 'a'])\n",
    "c2 = Counter('alphabet')\n",
    "\n",
    "# Віднімання елементів\n",
    "result_subtract = c1 - c2\n",
    "print(result_subtract)  # Counter({'c': 1})\n",
    "\n",
    "# Об'єднання лічильників (максимальне значення)\n",
    "result_union = c1 | c2\n",
    "print(result_union)  # Counter({'a': 2, 'b': 1, 'c': 1, 'l': 1, 'p': 1, 'h': 1, 'e': 1, 't': 1})"
   ],
   "id": "e326433f46cdf9e",
   "outputs": [
    {
     "name": "stdout",
     "output_type": "stream",
     "text": [
      "Counter({'c': 1})\n",
      "Counter({'a': 2, 'b': 1, 'c': 1, 'l': 1, 'p': 1, 'h': 1, 'e': 1, 't': 1})\n"
     ]
    }
   ],
   "execution_count": 11
  }
 ],
 "metadata": {
  "kernelspec": {
   "display_name": "Python 3",
   "language": "python",
   "name": "python3"
  },
  "language_info": {
   "codemirror_mode": {
    "name": "ipython",
    "version": 2
   },
   "file_extension": ".py",
   "mimetype": "text/x-python",
   "name": "python",
   "nbconvert_exporter": "python",
   "pygments_lexer": "ipython2",
   "version": "2.7.6"
  }
 },
 "nbformat": 4,
 "nbformat_minor": 5
}
