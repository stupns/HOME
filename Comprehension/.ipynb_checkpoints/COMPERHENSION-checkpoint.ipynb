{
 "cells": [
  {
   "cell_type": "code",
   "execution_count": 2,
   "id": "4db2eef0",
   "metadata": {},
   "outputs": [
    {
     "data": {
      "text/plain": [
       "[0, 1, 2, 3, 4, 5, 6, 7, 8, 9]"
      ]
     },
     "execution_count": 2,
     "metadata": {},
     "output_type": "execute_result"
    }
   ],
   "source": [
    "[x for x in range(10)]"
   ]
  },
  {
   "cell_type": "code",
   "execution_count": 3,
   "id": "aa256d15",
   "metadata": {},
   "outputs": [
    {
     "data": {
      "text/plain": [
       "[0, 2, 4, 6, 8, 10, 12, 14, 16, 18]"
      ]
     },
     "execution_count": 3,
     "metadata": {},
     "output_type": "execute_result"
    }
   ],
   "source": [
    "[x*2 for x in range(10)]"
   ]
  },
  {
   "cell_type": "code",
   "execution_count": 29,
   "id": "f355b2ef",
   "metadata": {},
   "outputs": [
    {
     "data": {
      "text/plain": [
       "[1, 2, 3, 4, 5, 6, 7, 8, 9, 10]"
      ]
     },
     "execution_count": 29,
     "metadata": {},
     "output_type": "execute_result"
    }
   ],
   "source": [
    "[x+1 for x in range(10)]"
   ]
  },
  {
   "cell_type": "code",
   "execution_count": 5,
   "id": "ab17252b",
   "metadata": {},
   "outputs": [
    {
     "data": {
      "text/plain": [
       "[1, 3, 5, 7, 9, 11, 13, 15, 17, 19]"
      ]
     },
     "execution_count": 5,
     "metadata": {},
     "output_type": "execute_result"
    }
   ],
   "source": [
    "[(x*2)+1 for x in range(10)]"
   ]
  },
  {
   "cell_type": "code",
   "execution_count": 7,
   "id": "8aa84933",
   "metadata": {},
   "outputs": [
    {
     "data": {
      "text/plain": [
       "[0, 1, 4, 9, 16, 25, 36, 49, 64, 81]"
      ]
     },
     "execution_count": 7,
     "metadata": {},
     "output_type": "execute_result"
    }
   ],
   "source": [
    "[x**2 for x in range(10)]"
   ]
  },
  {
   "cell_type": "markdown",
   "id": "7b57757a",
   "metadata": {},
   "source": [
    "З умовою"
   ]
  },
  {
   "cell_type": "code",
   "execution_count": 5,
   "id": "5b5fd3f5",
   "metadata": {},
   "outputs": [],
   "source": [
    "nums = [x for x in range(20)]\n",
    "string = 'Practice Problems to Drill List Comprehension in Your Head.'"
   ]
  },
  {
   "cell_type": "markdown",
   "id": "0840a54e",
   "metadata": {},
   "source": [
    "Find all of the numbers from 1–1000 that are divisible by 8:"
   ]
  },
  {
   "cell_type": "code",
   "execution_count": 7,
   "id": "37920adb",
   "metadata": {},
   "outputs": [
    {
     "data": {
      "text/plain": [
       "[0, 8, 16]"
      ]
     },
     "execution_count": 7,
     "metadata": {},
     "output_type": "execute_result"
    }
   ],
   "source": [
    "[num for num in nums if num % 8 == 0]"
   ]
  },
  {
   "cell_type": "markdown",
   "id": "74d0da24",
   "metadata": {},
   "source": [
    "Find all of the numbers from 1–1000 that have a 6 in them:"
   ]
  },
  {
   "cell_type": "code",
   "execution_count": 13,
   "id": "36245042",
   "metadata": {},
   "outputs": [
    {
     "data": {
      "text/plain": [
       "[6, 16]"
      ]
     },
     "execution_count": 13,
     "metadata": {},
     "output_type": "execute_result"
    }
   ],
   "source": [
    "[num for num in nums if '6' in str(num)]"
   ]
  },
  {
   "cell_type": "markdown",
   "id": "4d0ea261",
   "metadata": {},
   "source": [
    "Count the number of spaces in a string:"
   ]
  },
  {
   "cell_type": "code",
   "execution_count": 16,
   "id": "dddbd251",
   "metadata": {},
   "outputs": [
    {
     "data": {
      "text/plain": [
       "8"
      ]
     },
     "execution_count": 16,
     "metadata": {},
     "output_type": "execute_result"
    }
   ],
   "source": [
    "len([char for char in string if char == ' '])"
   ]
  },
  {
   "cell_type": "markdown",
   "id": "7df8c28a",
   "metadata": {},
   "source": [
    "Remove all of the vowels in a string"
   ]
  },
  {
   "cell_type": "code",
   "execution_count": 17,
   "id": "952a86e5",
   "metadata": {},
   "outputs": [
    {
     "data": {
      "text/plain": [
       "'Prctc Prblms t Drll Lst Cmprhnsn n Yr Hd.'"
      ]
     },
     "execution_count": 17,
     "metadata": {},
     "output_type": "execute_result"
    }
   ],
   "source": [
    "\"\".join([char for char in string if char not in [\"a\", \"e\", \"i\", \"o\", \"u\"]])"
   ]
  },
  {
   "cell_type": "markdown",
   "id": "ce303b1f",
   "metadata": {},
   "source": [
    "This is a slightly different way of applying list comprehension. Problem Statement: The goal is to tokenize the following 5 sentences into words, excluding the stop words"
   ]
  },
  {
   "cell_type": "code",
   "execution_count": 54,
   "id": "8d740380",
   "metadata": {},
   "outputs": [
    {
     "data": {
      "text/plain": [
       "['new',\n",
       " 'world',\n",
       " 'record',\n",
       " 'was',\n",
       " 'set',\n",
       " 'holy',\n",
       " 'city',\n",
       " 'ayodhya',\n",
       " 'eve',\n",
       " 'diwali',\n",
       " 'tuesday',\n",
       " 'over',\n",
       " 'three',\n",
       " 'lakh',\n",
       " 'diya',\n",
       " 'or',\n",
       " 'earthen',\n",
       " 'lamps',\n",
       " 'lit',\n",
       " 'up',\n",
       " 'simultaneously',\n",
       " 'banks',\n",
       " 'sarayu',\n",
       " 'river']"
      ]
     },
     "execution_count": 54,
     "metadata": {},
     "output_type": "execute_result"
    }
   ],
   "source": [
    "sentences = [\"a new world record was set\", \n",
    "             \"in the holy city of ayodhya\", \n",
    "             \"on the eve of diwali on tuesday\", \n",
    "             \"with over three lakh diya or earthen lamps\", \n",
    "             \"lit up simultaneously on the banks of the sarayu river\"]\n",
    "\n",
    "stopwords = ['for', 'a', 'of', 'the', 'and', 'to', 'in', 'on', 'with']\n",
    "[word for sentence in sentences for word in sentence.split(' ') if word not in stopwords]"
   ]
  },
  {
   "cell_type": "markdown",
   "id": "f0c27102",
   "metadata": {},
   "source": [
    "Find all of the words in a string that are less than 5 letters"
   ]
  },
  {
   "cell_type": "code",
   "execution_count": 22,
   "id": "14d67fed",
   "metadata": {},
   "outputs": [
    {
     "data": {
      "text/plain": [
       "['to', 'List', 'in', 'Your']"
      ]
     },
     "execution_count": 22,
     "metadata": {},
     "output_type": "execute_result"
    }
   ],
   "source": [
    "words = string.split()\n",
    "[word for word in words if len(word)<5]"
   ]
  },
  {
   "cell_type": "markdown",
   "id": "4f473193",
   "metadata": {},
   "source": [
    "Use a dictionary comprehension to count the length of each word in a sentence (use string above)"
   ]
  },
  {
   "cell_type": "code",
   "execution_count": 23,
   "id": "8df3addf",
   "metadata": {},
   "outputs": [
    {
     "data": {
      "text/plain": [
       "{'Practice': 8,\n",
       " 'Problems': 8,\n",
       " 'to': 2,\n",
       " 'Drill': 5,\n",
       " 'List': 4,\n",
       " 'Comprehension': 13,\n",
       " 'in': 2,\n",
       " 'Your': 4,\n",
       " 'Head.': 5}"
      ]
     },
     "execution_count": 23,
     "metadata": {},
     "output_type": "execute_result"
    }
   ],
   "source": [
    "{word:len(word) for word in words}"
   ]
  },
  {
   "cell_type": "markdown",
   "id": "ff40b7a0",
   "metadata": {},
   "source": [
    "Use a nested list comprehension to find all of the numbers from 1–1000 that are divisible by any single digit besides 1 (2–9)"
   ]
  },
  {
   "cell_type": "code",
   "execution_count": 24,
   "id": "a440402e",
   "metadata": {},
   "outputs": [
    {
     "data": {
      "text/plain": [
       "[0, 2, 3, 4, 5, 6, 7, 8, 9, 10, 12, 14, 15, 16, 18]"
      ]
     },
     "execution_count": 24,
     "metadata": {},
     "output_type": "execute_result"
    }
   ],
   "source": [
    "[num for num in nums if True in [True for divisor in range(2,10) if num % divisor == 0]]"
   ]
  },
  {
   "cell_type": "markdown",
   "id": "37f3422e",
   "metadata": {},
   "source": [
    "For all the numbers 1–1000, use a nested list/dictionary comprehension to find the highest single digit any of the numbers is divisible by"
   ]
  },
  {
   "cell_type": "code",
   "execution_count": 30,
   "id": "299d2de7",
   "metadata": {},
   "outputs": [
    {
     "data": {
      "text/plain": [
       "{0: 9,\n",
       " 1: 1,\n",
       " 2: 2,\n",
       " 3: 3,\n",
       " 4: 4,\n",
       " 5: 5,\n",
       " 6: 6,\n",
       " 7: 7,\n",
       " 8: 8,\n",
       " 9: 9,\n",
       " 10: 5,\n",
       " 11: 1,\n",
       " 12: 6,\n",
       " 13: 1,\n",
       " 14: 7,\n",
       " 15: 5,\n",
       " 16: 8,\n",
       " 17: 1,\n",
       " 18: 9,\n",
       " 19: 1}"
      ]
     },
     "execution_count": 30,
     "metadata": {},
     "output_type": "execute_result"
    }
   ],
   "source": [
    "{num:max([x for x in range(1,10) if num % x == 0]) for num in nums}"
   ]
  },
  {
   "cell_type": "markdown",
   "id": "9eca3cfd",
   "metadata": {},
   "source": [
    "Using list comprehension, construct a list from the squares of each element in the list, if the square is greater than 50."
   ]
  },
  {
   "cell_type": "code",
   "execution_count": 27,
   "id": "5388f18a",
   "metadata": {},
   "outputs": [
    {
     "data": {
      "text/plain": [
       "[64, 100, 144, 196]"
      ]
     },
     "execution_count": 27,
     "metadata": {},
     "output_type": "execute_result"
    }
   ],
   "source": [
    "[x**2 for x in range(0,15,2) if x**2 > 50]"
   ]
  },
  {
   "cell_type": "markdown",
   "id": "0f31355a",
   "metadata": {},
   "source": [
    "Given dictionary is consisted of vehicles and their weights in kilograms. Contruct a list of the names of vehicles with weight below 5000 kilograms. In the same list comprehension make the key names all upper case."
   ]
  },
  {
   "cell_type": "code",
   "execution_count": 33,
   "id": "69828711",
   "metadata": {},
   "outputs": [
    {
     "data": {
      "text/plain": [
       "['SEDAN', 'SUV', 'PICKUP', 'MINIVAN', 'VAN', 'BICYCLE', 'MOTORCYCLE']"
      ]
     },
     "execution_count": 33,
     "metadata": {},
     "output_type": "execute_result"
    }
   ],
   "source": [
    "dict={\"Sedan\": 1500, \"SUV\": 2000, \"Pickup\": 2500, \"Minivan\": 1600, \"Van\": 2400, \"Semi\": 13600, \"Bicycle\": 7, \"Motorcycle\": 110}\n",
    "[i.upper() for i in dict if dict[i] < 5000]"
   ]
  },
  {
   "cell_type": "markdown",
   "id": "dd7970b5",
   "metadata": {},
   "source": [
    "Get the index and the value as a tuple for items in the list [\"hi\", 4, 8.99, 'apple', ('t,b','n')].  Result would look like [(index, value), (index, value)]"
   ]
  },
  {
   "cell_type": "code",
   "execution_count": 39,
   "id": "d2aeae25",
   "metadata": {},
   "outputs": [
    {
     "data": {
      "text/plain": [
       "[(0, 'hi'), (1, 4), (2, 8.99), (3, 'apple'), (4, ('t,b', 'n'))]"
      ]
     },
     "execution_count": 39,
     "metadata": {},
     "output_type": "execute_result"
    }
   ],
   "source": [
    "new = [\"hi\", 4, 8.99, 'apple', ('t,b','n')]\n",
    "[(index, item) for index, item in enumerate(new)]"
   ]
  },
  {
   "cell_type": "markdown",
   "id": "d90e2150",
   "metadata": {},
   "source": [
    "Find the common numbers in two lists (without using a tuple or set) list_a = [1, 2, 3, 4], list_b = [2, 3, 4, 5]"
   ]
  },
  {
   "cell_type": "code",
   "execution_count": 41,
   "id": "6530ef56",
   "metadata": {},
   "outputs": [
    {
     "data": {
      "text/plain": [
       "[2, 3, 4]"
      ]
     },
     "execution_count": 41,
     "metadata": {},
     "output_type": "execute_result"
    }
   ],
   "source": [
    "list_a = [1, 2, 3, 4]\n",
    "list_b = [2, 3, 4, 5]\n",
    "[x for x in list_a if x in list_b]"
   ]
  },
  {
   "cell_type": "markdown",
   "id": "f65e74f9",
   "metadata": {},
   "source": [
    "Get only the numbers in a sentence like 'In 1984 there were 13 instances of a protest with over 1000 people attending'.  Result is a list of numbers like [3,4,5]"
   ]
  },
  {
   "cell_type": "code",
   "execution_count": 45,
   "id": "b511d4d8",
   "metadata": {},
   "outputs": [
    {
     "data": {
      "text/plain": [
       "['1984', '13', '1000']"
      ]
     },
     "execution_count": 45,
     "metadata": {},
     "output_type": "execute_result"
    }
   ],
   "source": [
    "sentence = 'In 1984 there were 13 instances of a protest with over 1000 people attending'\n",
    "words = sentence.split()\n",
    "[x for x in words if not x.isalpha()]"
   ]
  },
  {
   "cell_type": "markdown",
   "id": "ae6e7800",
   "metadata": {},
   "source": [
    "Given numbers = range(20), produce a list containing the word 'even' if a number in the numbers is even, and the word 'odd' if the number is odd.  Result would look like ['odd','odd', 'even']"
   ]
  },
  {
   "cell_type": "code",
   "execution_count": 49,
   "id": "3f1a069e",
   "metadata": {},
   "outputs": [
    {
     "data": {
      "text/plain": [
       "['even',\n",
       " 'odd',\n",
       " 'even',\n",
       " 'odd',\n",
       " 'even',\n",
       " 'odd',\n",
       " 'even',\n",
       " 'odd',\n",
       " 'even',\n",
       " 'odd',\n",
       " 'even',\n",
       " 'odd',\n",
       " 'even',\n",
       " 'odd',\n",
       " 'even',\n",
       " 'odd',\n",
       " 'even',\n",
       " 'odd',\n",
       " 'even',\n",
       " 'odd']"
      ]
     },
     "execution_count": 49,
     "metadata": {},
     "output_type": "execute_result"
    }
   ],
   "source": [
    "['even' if x % 2 == 0 else 'odd' for x in range(20)]"
   ]
  },
  {
   "cell_type": "markdown",
   "id": "806dad9c",
   "metadata": {},
   "source": [
    "Produce a list of tuples consisting of only the matching numbers in these lists list_a = [1, 2, 3,4,5,6,7,8,9], list_b = [2, 7, 1, 12].  Result would look like (4,4), (12,12)"
   ]
  },
  {
   "cell_type": "code",
   "execution_count": 50,
   "id": "fd71ff8c",
   "metadata": {},
   "outputs": [
    {
     "data": {
      "text/plain": [
       "[(1, 1), (2, 2), (7, 7)]"
      ]
     },
     "execution_count": 50,
     "metadata": {},
     "output_type": "execute_result"
    }
   ],
   "source": [
    "list_a = [1, 2, 3,4,5,6,7,8,9]\n",
    "list_b = [2, 7, 1, 12]\n",
    "[(x,y) for x in list_a for y in list_b if x==y]"
   ]
  },
  {
   "cell_type": "markdown",
   "id": "1276e1cf",
   "metadata": {},
   "source": [
    "HARD LEVEL"
   ]
  },
  {
   "cell_type": "markdown",
   "id": "1ef2c035",
   "metadata": {},
   "source": [
    "Question 1. Given a 1D list, negate all elements which are between 3 and 8, using list comprehensions"
   ]
  },
  {
   "cell_type": "code",
   "execution_count": 60,
   "id": "80d03755",
   "metadata": {},
   "outputs": [
    {
     "data": {
      "text/plain": [
       "[1, 2, -3, -4, -5, -6, -7, -8, 9, 10]"
      ]
     },
     "execution_count": 60,
     "metadata": {},
     "output_type": "execute_result"
    }
   ],
   "source": [
    "mylist = [1, 2, 3, 4, 5, 6, 7, 8, 9, 10]\n",
    "[-x if 3 <= x <= 8 else x for x in mylist]"
   ]
  },
  {
   "cell_type": "code",
   "execution_count": null,
   "id": "d34ed6d0",
   "metadata": {},
   "outputs": [],
   "source": []
  },
  {
   "cell_type": "markdown",
   "id": "ea07f297",
   "metadata": {},
   "source": [
    "Question 2: Make a dictionary of the 26 english alphabets mapping each with the corresponding integer.\n",
    "\n",
    "{'a': 1, 'b': 2, 'c': 3, 'd': 4, 'e': 5, 'f': 6,\n",
    " 'g': 7, 'h': 8, 'i': 9, 'j': 10, 'k': 11, 'l': 12,\n",
    " 'm': 13, 'n': 14, 'o': 15, 'p': 16, 'q': 17, 'r': 18,\n",
    " 's': 19, 't': 20, 'u': 21, 'v': 22, 'w': 23, 'x': 24,\n",
    " 'y': 25, 'z': 26}"
   ]
  },
  {
   "cell_type": "markdown",
   "id": "755d92fb",
   "metadata": {},
   "source": [
    "\n",
    "{a:i+1 for a,i in zip(string.ascii_letters[:26], range(26))}"
   ]
  },
  {
   "cell_type": "code",
   "execution_count": null,
   "id": "48d464a6",
   "metadata": {},
   "outputs": [],
   "source": []
  },
  {
   "cell_type": "markdown",
   "id": "b5f2ac60",
   "metadata": {},
   "source": [
    "Task 25: Replace all alphabets in the string ‘Lee Quan Yew’, by substituting the alphabet with the corresponding numbers, like 1 for ‘a’, 2 for ‘b’ and so on. Desired Output:"
   ]
  },
  {
   "cell_type": "code",
   "execution_count": 62,
   "id": "1cf90a13",
   "metadata": {},
   "outputs": [
    {
     "data": {
      "text/plain": [
       "[12, 5, 5, ' ', 17, 21, 1, 14, ' ', 25, 5, 23]"
      ]
     },
     "execution_count": 62,
     "metadata": {},
     "output_type": "execute_result"
    }
   ],
   "source": [
    "d = {a:i+1 for a,i in zip(string.ascii_lowercase, range(26))}\n",
    "[d.get(a.lower(), ' ') for a in 'Lee Quan Yew']"
   ]
  },
  {
   "cell_type": "markdown",
   "id": "60761d2e",
   "metadata": {},
   "source": [
    "Task 26: Get the unique list of words from the following sentences, excluding any stopwords."
   ]
  },
  {
   "cell_type": "code",
   "execution_count": 64,
   "id": "90098296",
   "metadata": {},
   "outputs": [
    {
     "data": {
      "text/plain": [
       "{'a', 'hubble', 'in', 'of', 'space', 'the'}"
      ]
     },
     "execution_count": 64,
     "metadata": {},
     "output_type": "execute_result"
    }
   ],
   "source": [
    "sentences = [\"The Hubble Space telescope has spotted\", \n",
    "             \"a formation of galaxies that resembles\", \n",
    "             \"a smiling face in the sky\"]\n",
    "stopwords = {'face', 'formation', 'galaxies', 'has', 'hubble', 'resembles',\n",
    " 'sky', 'smiling', 'space', 'spotted', 'telescope', 'that', 'the'}\n",
    "\n",
    "{word.lower() for sentence in sentences for word in sentence.split(' ') if word not in stopwords}"
   ]
  },
  {
   "cell_type": "code",
   "execution_count": null,
   "id": "ce201d4e",
   "metadata": {},
   "outputs": [],
   "source": []
  }
 ],
 "metadata": {
  "kernelspec": {
   "display_name": "Python 3 (ipykernel)",
   "language": "python",
   "name": "python3"
  },
  "language_info": {
   "codemirror_mode": {
    "name": "ipython",
    "version": 3
   },
   "file_extension": ".py",
   "mimetype": "text/x-python",
   "name": "python",
   "nbconvert_exporter": "python",
   "pygments_lexer": "ipython3",
   "version": "3.10.0"
  }
 },
 "nbformat": 4,
 "nbformat_minor": 5
}
